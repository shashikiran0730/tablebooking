{
 "cells": [
  {
   "cell_type": "code",
   "execution_count": 2,
   "metadata": {},
   "outputs": [],
   "source": [
    "import pandas as pd\n",
    "import seaborn as sns"
   ]
  },
  {
   "cell_type": "code",
   "execution_count": 113,
   "metadata": {},
   "outputs": [
    {
     "data": {
      "text/html": [
       "<div>\n",
       "<style scoped>\n",
       "    .dataframe tbody tr th:only-of-type {\n",
       "        vertical-align: middle;\n",
       "    }\n",
       "\n",
       "    .dataframe tbody tr th {\n",
       "        vertical-align: top;\n",
       "    }\n",
       "\n",
       "    .dataframe thead th {\n",
       "        text-align: right;\n",
       "    }\n",
       "</style>\n",
       "<table border=\"1\" class=\"dataframe\">\n",
       "  <thead>\n",
       "    <tr style=\"text-align: right;\">\n",
       "      <th></th>\n",
       "      <th>Unnamed: 0</th>\n",
       "      <th>Order ID</th>\n",
       "      <th>Order Date</th>\n",
       "      <th>CustomerName</th>\n",
       "      <th>State</th>\n",
       "      <th>Amount</th>\n",
       "      <th>Profit</th>\n",
       "      <th>Quantity</th>\n",
       "      <th>Category</th>\n",
       "    </tr>\n",
       "  </thead>\n",
       "  <tbody>\n",
       "    <tr>\n",
       "      <th>0</th>\n",
       "      <td>0</td>\n",
       "      <td>B-25601</td>\n",
       "      <td>04-01-2018</td>\n",
       "      <td>Bharat</td>\n",
       "      <td>Gujarat</td>\n",
       "      <td>1275</td>\n",
       "      <td>-1148</td>\n",
       "      <td>7</td>\n",
       "      <td>Furniture</td>\n",
       "    </tr>\n",
       "  </tbody>\n",
       "</table>\n",
       "</div>"
      ],
      "text/plain": [
       "   Unnamed: 0 Order ID  Order Date CustomerName    State  Amount  Profit  \\\n",
       "0           0  B-25601  04-01-2018       Bharat  Gujarat    1275   -1148   \n",
       "\n",
       "   Quantity   Category  \n",
       "0         7  Furniture  "
      ]
     },
     "execution_count": 113,
     "metadata": {},
     "output_type": "execute_result"
    }
   ],
   "source": [
    "df=pd.read_csv(\"C:/Users/babbl/Downloads/Telegram Desktop/data (2).csv\")\n",
    "df.head(1)"
   ]
  },
  {
   "cell_type": "code",
   "execution_count": 114,
   "metadata": {},
   "outputs": [
    {
     "name": "stdout",
     "output_type": "stream",
     "text": [
      "['04-01-2018' '04-01-2018' '04-01-2018' ... '31-03-2019' '31-03-2019'\n",
      " '31-03-2019']\n"
     ]
    }
   ],
   "source": [
    "od=df['Order Date'].values\n",
    "print(od)\n",
    "od1=od"
   ]
  },
  {
   "cell_type": "code",
   "execution_count": 115,
   "metadata": {},
   "outputs": [],
   "source": [
    "for i in range(len(od)):\n",
    "    od1[i]=od[i][3:]"
   ]
  },
  {
   "cell_type": "code",
   "execution_count": 116,
   "metadata": {},
   "outputs": [
    {
     "name": "stdout",
     "output_type": "stream",
     "text": [
      "['01-2018' '01-2018' '01-2018' ... '03-2019' '03-2019' '03-2019']\n"
     ]
    }
   ],
   "source": [
    "print(od1)"
   ]
  },
  {
   "cell_type": "code",
   "execution_count": 117,
   "metadata": {},
   "outputs": [],
   "source": [
    "for i in range(len(od1)):\n",
    "    od1[i]=od1[i].split('-')"
   ]
  },
  {
   "cell_type": "code",
   "execution_count": 118,
   "metadata": {},
   "outputs": [],
   "source": [
    "for i in range(len(od1)):\n",
    "    od1[i]=od1[i][::-1]"
   ]
  },
  {
   "cell_type": "code",
   "execution_count": 119,
   "metadata": {},
   "outputs": [],
   "source": [
    "for i in range(len(od1)):\n",
    "    od1[i][0]=od1[i][0][2:]"
   ]
  },
  {
   "cell_type": "code",
   "execution_count": 120,
   "metadata": {},
   "outputs": [
    {
     "name": "stdout",
     "output_type": "stream",
     "text": [
      "[list(['18', '01']) list(['18', '01']) list(['18', '01']) ...\n",
      " list(['19', '03']) list(['19', '03']) list(['19', '03'])]\n"
     ]
    }
   ],
   "source": [
    "print(od1)\n",
    "od2=od1"
   ]
  },
  {
   "cell_type": "code",
   "execution_count": 121,
   "metadata": {},
   "outputs": [],
   "source": [
    "month={'01':'Jan','02':'Feb','03':'Mar','04':'Apr','05':'May','06':'Jun','07':'Jul','08':'Aug','09':'Sep','10':'Oct','11':'Nov','12':'Dec'}"
   ]
  },
  {
   "cell_type": "code",
   "execution_count": 122,
   "metadata": {},
   "outputs": [],
   "source": [
    "for i in range(len(od1)):\n",
    "    od1[i][1]=month[od1[i][1]]"
   ]
  },
  {
   "cell_type": "code",
   "execution_count": 123,
   "metadata": {},
   "outputs": [],
   "source": [
    "for i in range(len(od1)):\n",
    "    od2[i]='-'.join(od1[i])"
   ]
  },
  {
   "cell_type": "code",
   "execution_count": 127,
   "metadata": {},
   "outputs": [],
   "source": [
    "df['new date']=pd.DataFrame(od2)"
   ]
  },
  {
   "cell_type": "code",
   "execution_count": 152,
   "metadata": {},
   "outputs": [],
   "source": [
    "dates=[]\n",
    "d={}\n",
    "for i in df['Order Date'].values:\n",
    "    d[i]=0"
   ]
  },
  {
   "cell_type": "code",
   "execution_count": 153,
   "metadata": {},
   "outputs": [],
   "source": [
    "for i,j in zip(df['Order Date'].values,df['Profit'].values):\n",
    "    d[i]+=j"
   ]
  },
  {
   "cell_type": "code",
   "execution_count": 154,
   "metadata": {},
   "outputs": [
    {
     "data": {
      "text/html": [
       "<div>\n",
       "<style scoped>\n",
       "    .dataframe tbody tr th:only-of-type {\n",
       "        vertical-align: middle;\n",
       "    }\n",
       "\n",
       "    .dataframe tbody tr th {\n",
       "        vertical-align: top;\n",
       "    }\n",
       "\n",
       "    .dataframe thead th {\n",
       "        text-align: right;\n",
       "    }\n",
       "</style>\n",
       "<table border=\"1\" class=\"dataframe\">\n",
       "  <thead>\n",
       "    <tr style=\"text-align: right;\">\n",
       "      <th></th>\n",
       "      <th>Month of Order Date</th>\n",
       "      <th>Category</th>\n",
       "      <th>Target</th>\n",
       "    </tr>\n",
       "  </thead>\n",
       "  <tbody>\n",
       "    <tr>\n",
       "      <th>0</th>\n",
       "      <td>18-Apr</td>\n",
       "      <td>Furniture</td>\n",
       "      <td>10400</td>\n",
       "    </tr>\n",
       "  </tbody>\n",
       "</table>\n",
       "</div>"
      ],
      "text/plain": [
       "  Month of Order Date   Category  Target\n",
       "0              18-Apr  Furniture   10400"
      ]
     },
     "execution_count": 154,
     "metadata": {},
     "output_type": "execute_result"
    }
   ],
   "source": [
    "df2=pd.read_csv(\"C:/Users/babbl/Downloads/Telegram Desktop/E-Commerce_Command Center(3).csv\")\n",
    "df2.head(1)"
   ]
  },
  {
   "cell_type": "code",
   "execution_count": 155,
   "metadata": {},
   "outputs": [],
   "source": [
    "d1={}\n",
    "dates=[]\n",
    "d1={}\n",
    "for i in df['Order Date'].values:\n",
    "    d1[i]=0"
   ]
  },
  {
   "cell_type": "code",
   "execution_count": 159,
   "metadata": {},
   "outputs": [],
   "source": [
    "for i,j in zip(df2['Month of Order Date'].values,df2['Target'].values):\n",
    "    d1[i]+=j"
   ]
  },
  {
   "cell_type": "code",
   "execution_count": 166,
   "metadata": {},
   "outputs": [
    {
     "name": "stdout",
     "output_type": "stream",
     "text": [
      "{'18-Jan': -3296, '18-Mar': 669, '18-May': -891, '18-Jun': -3759, '18-Aug': -1059, '18-Sep': -3509, '18-Nov': 4955, '18-Dec': 1535, '18-Apr': -1043, '18-Jul': -2065, '18-Oct': 5979, '18-Feb': 685, '19-Jan': 8655, '19-Feb': 2291, '19-Mar': 6633, '19-Apr': 1295, '19-May': 943, '19-Jun': 700, '19-Jul': 975, '19-Aug': 594, '19-Sep': 1597, '19-Oct': 1892, '19-Nov': 122, '19-Dec': 57}\n",
      "{'18-Jan': 0, '18-Mar': 0, '18-May': 31500, '18-Jun': 31600, '18-Aug': 33900, '18-Sep': 34000, '18-Nov': 36300, '18-Dec': 36400, '18-Apr': 31400, '18-Jul': 33800, '18-Oct': 36100, '18-Feb': 0, '19-Jan': 43500, '19-Feb': 43600, '19-Mar': 43800, '19-Apr': 0, '19-May': 0, '19-Jun': 0, '19-Jul': 0, '19-Aug': 0, '19-Sep': 0, '19-Oct': 0, '19-Nov': 0, '19-Dec': 0}\n"
     ]
    }
   ],
   "source": [
    "print(d)\n",
    "print(d1)"
   ]
  },
  {
   "cell_type": "code",
   "execution_count": 181,
   "metadata": {},
   "outputs": [
    {
     "ename": "KeyError",
     "evalue": "'18-Jan'",
     "output_type": "error",
     "traceback": [
      "\u001b[1;31m---------------------------------------------------------------------------\u001b[0m",
      "\u001b[1;31mKeyError\u001b[0m                                  Traceback (most recent call last)",
      "\u001b[1;32m~\\AppData\\Local\\Temp/ipykernel_11224/3460531621.py\u001b[0m in \u001b[0;36m<module>\u001b[1;34m\u001b[0m\n\u001b[0;32m      1\u001b[0m \u001b[1;32mfor\u001b[0m \u001b[0mi\u001b[0m\u001b[1;33m,\u001b[0m\u001b[0mj\u001b[0m \u001b[1;32min\u001b[0m \u001b[0md1\u001b[0m\u001b[1;33m.\u001b[0m\u001b[0mitems\u001b[0m\u001b[1;33m(\u001b[0m\u001b[1;33m)\u001b[0m\u001b[1;33m:\u001b[0m\u001b[1;33m\u001b[0m\u001b[1;33m\u001b[0m\u001b[0m\n\u001b[0;32m      2\u001b[0m     \u001b[1;32mif\u001b[0m \u001b[0mj\u001b[0m\u001b[1;33m==\u001b[0m\u001b[1;36m0\u001b[0m\u001b[1;33m:\u001b[0m\u001b[1;33m\u001b[0m\u001b[1;33m\u001b[0m\u001b[0m\n\u001b[1;32m----> 3\u001b[1;33m         \u001b[0md\u001b[0m\u001b[1;33m.\u001b[0m\u001b[0mpop\u001b[0m\u001b[1;33m(\u001b[0m\u001b[0mi\u001b[0m\u001b[1;33m)\u001b[0m\u001b[1;33m\u001b[0m\u001b[1;33m\u001b[0m\u001b[0m\n\u001b[0m",
      "\u001b[1;31mKeyError\u001b[0m: '18-Jan'"
     ]
    }
   ],
   "source": [
    "for i,j in d1.items():\n",
    "    if j==0:\n",
    "        d.pop(i)"
   ]
  },
  {
   "cell_type": "code",
   "execution_count": 186,
   "metadata": {},
   "outputs": [
    {
     "ename": "RuntimeError",
     "evalue": "dictionary changed size during iteration",
     "output_type": "error",
     "traceback": [
      "\u001b[1;31m---------------------------------------------------------------------------\u001b[0m",
      "\u001b[1;31mRuntimeError\u001b[0m                              Traceback (most recent call last)",
      "\u001b[1;32m~\\AppData\\Local\\Temp/ipykernel_11224/2649230261.py\u001b[0m in \u001b[0;36m<module>\u001b[1;34m\u001b[0m\n\u001b[1;32m----> 1\u001b[1;33m \u001b[1;32mfor\u001b[0m \u001b[0mi\u001b[0m\u001b[1;33m,\u001b[0m\u001b[0mj\u001b[0m \u001b[1;32min\u001b[0m \u001b[0md1\u001b[0m\u001b[1;33m.\u001b[0m\u001b[0mitems\u001b[0m\u001b[1;33m(\u001b[0m\u001b[1;33m)\u001b[0m\u001b[1;33m:\u001b[0m\u001b[1;33m\u001b[0m\u001b[1;33m\u001b[0m\u001b[0m\n\u001b[0m\u001b[0;32m      2\u001b[0m     \u001b[1;32mif\u001b[0m \u001b[0mj\u001b[0m\u001b[1;33m==\u001b[0m\u001b[1;36m0\u001b[0m\u001b[1;33m:\u001b[0m\u001b[1;33m\u001b[0m\u001b[1;33m\u001b[0m\u001b[0m\n\u001b[0;32m      3\u001b[0m         \u001b[0md1\u001b[0m\u001b[1;33m.\u001b[0m\u001b[0mpop\u001b[0m\u001b[1;33m(\u001b[0m\u001b[0mi\u001b[0m\u001b[1;33m)\u001b[0m\u001b[1;33m\u001b[0m\u001b[1;33m\u001b[0m\u001b[0m\n",
      "\u001b[1;31mRuntimeError\u001b[0m: dictionary changed size during iteration"
     ]
    }
   ],
   "source": [
    "for i,j in d1.items():\n",
    "    if j==0:\n",
    "        d1.pop(i)"
   ]
  },
  {
   "cell_type": "code",
   "execution_count": 202,
   "metadata": {},
   "outputs": [],
   "source": [
    "d2={}"
   ]
  },
  {
   "cell_type": "code",
   "execution_count": 203,
   "metadata": {},
   "outputs": [
    {
     "name": "stdout",
     "output_type": "stream",
     "text": [
      "12\n",
      "17\n"
     ]
    }
   ],
   "source": [
    "print(len(d))\n",
    "print(len(d1))"
   ]
  },
  {
   "cell_type": "code",
   "execution_count": 204,
   "metadata": {},
   "outputs": [],
   "source": [
    "for i,j in d1.items():\n",
    "    if j!=0:\n",
    "        d2[i]=j\n",
    "        "
   ]
  },
  {
   "cell_type": "code",
   "execution_count": 210,
   "metadata": {},
   "outputs": [
    {
     "name": "stdout",
     "output_type": "stream",
     "text": [
      "{'18-May': -891, '18-Jun': -3759, '18-Aug': -1059, '18-Sep': -3509, '18-Nov': 4955, '18-Dec': 1535, '18-Apr': -1043, '18-Jul': -2065, '18-Oct': 5979, '19-Jan': 8655, '19-Feb': 2291, '19-Mar': 6633}\n",
      "{'18-May': 31500, '18-Jun': 31600, '18-Aug': 33900, '18-Sep': 34000, '18-Nov': 36300, '18-Dec': 36400, '18-Apr': 31400, '18-Jul': 33800, '18-Oct': 36100, '19-Jan': 43500, '19-Feb': 43600, '19-Mar': 43800}\n"
     ]
    }
   ],
   "source": [
    "print(d)\n",
    "print(d2)"
   ]
  },
  {
   "cell_type": "code",
   "execution_count": 225,
   "metadata": {},
   "outputs": [],
   "source": [
    "date=[]\n",
    "profit=[]\n",
    "target=[]"
   ]
  },
  {
   "cell_type": "code",
   "execution_count": 226,
   "metadata": {},
   "outputs": [],
   "source": [
    "for i,j in d.items():\n",
    "    date.append(i)\n",
    "    profit.append(j)"
   ]
  },
  {
   "cell_type": "code",
   "execution_count": 227,
   "metadata": {},
   "outputs": [],
   "source": [
    "for i,j in d2.items():\n",
    "    target.append(j)"
   ]
  },
  {
   "cell_type": "code",
   "execution_count": 228,
   "metadata": {},
   "outputs": [
    {
     "name": "stdout",
     "output_type": "stream",
     "text": [
      "['18-May', '18-Jun', '18-Aug', '18-Sep', '18-Nov', '18-Dec', '18-Apr', '18-Jul', '18-Oct', '19-Jan', '19-Feb', '19-Mar']\n",
      "[-891, -3759, -1059, -3509, 4955, 1535, -1043, -2065, 5979, 8655, 2291, 6633]\n",
      "[31500, 31600, 33900, 34000, 36300, 36400, 31400, 33800, 36100, 43500, 43600, 43800]\n"
     ]
    }
   ],
   "source": [
    "print(date)\n",
    "print(profit)\n",
    "print(target)"
   ]
  },
  {
   "cell_type": "code",
   "execution_count": 229,
   "metadata": {},
   "outputs": [],
   "source": [
    "data={\n",
    "    'Date':date,\n",
    "    'Profit':profit,\n",
    "    'Target':target\n",
    "}"
   ]
  },
  {
   "cell_type": "code",
   "execution_count": 236,
   "metadata": {},
   "outputs": [
    {
     "data": {
      "text/html": [
       "<div>\n",
       "<style scoped>\n",
       "    .dataframe tbody tr th:only-of-type {\n",
       "        vertical-align: middle;\n",
       "    }\n",
       "\n",
       "    .dataframe tbody tr th {\n",
       "        vertical-align: top;\n",
       "    }\n",
       "\n",
       "    .dataframe thead th {\n",
       "        text-align: right;\n",
       "    }\n",
       "</style>\n",
       "<table border=\"1\" class=\"dataframe\">\n",
       "  <thead>\n",
       "    <tr style=\"text-align: right;\">\n",
       "      <th></th>\n",
       "      <th>Date</th>\n",
       "      <th>Profit</th>\n",
       "      <th>Target</th>\n",
       "    </tr>\n",
       "  </thead>\n",
       "  <tbody>\n",
       "    <tr>\n",
       "      <th>0</th>\n",
       "      <td>18-May</td>\n",
       "      <td>-891</td>\n",
       "      <td>31500</td>\n",
       "    </tr>\n",
       "    <tr>\n",
       "      <th>1</th>\n",
       "      <td>18-Jun</td>\n",
       "      <td>-3759</td>\n",
       "      <td>31600</td>\n",
       "    </tr>\n",
       "    <tr>\n",
       "      <th>2</th>\n",
       "      <td>18-Aug</td>\n",
       "      <td>-1059</td>\n",
       "      <td>33900</td>\n",
       "    </tr>\n",
       "    <tr>\n",
       "      <th>3</th>\n",
       "      <td>18-Sep</td>\n",
       "      <td>-3509</td>\n",
       "      <td>34000</td>\n",
       "    </tr>\n",
       "    <tr>\n",
       "      <th>4</th>\n",
       "      <td>18-Nov</td>\n",
       "      <td>4955</td>\n",
       "      <td>36300</td>\n",
       "    </tr>\n",
       "    <tr>\n",
       "      <th>5</th>\n",
       "      <td>18-Dec</td>\n",
       "      <td>1535</td>\n",
       "      <td>36400</td>\n",
       "    </tr>\n",
       "    <tr>\n",
       "      <th>6</th>\n",
       "      <td>18-Apr</td>\n",
       "      <td>-1043</td>\n",
       "      <td>31400</td>\n",
       "    </tr>\n",
       "    <tr>\n",
       "      <th>7</th>\n",
       "      <td>18-Jul</td>\n",
       "      <td>-2065</td>\n",
       "      <td>33800</td>\n",
       "    </tr>\n",
       "    <tr>\n",
       "      <th>8</th>\n",
       "      <td>18-Oct</td>\n",
       "      <td>5979</td>\n",
       "      <td>36100</td>\n",
       "    </tr>\n",
       "    <tr>\n",
       "      <th>9</th>\n",
       "      <td>19-Jan</td>\n",
       "      <td>8655</td>\n",
       "      <td>43500</td>\n",
       "    </tr>\n",
       "    <tr>\n",
       "      <th>10</th>\n",
       "      <td>19-Feb</td>\n",
       "      <td>2291</td>\n",
       "      <td>43600</td>\n",
       "    </tr>\n",
       "    <tr>\n",
       "      <th>11</th>\n",
       "      <td>19-Mar</td>\n",
       "      <td>6633</td>\n",
       "      <td>43800</td>\n",
       "    </tr>\n",
       "  </tbody>\n",
       "</table>\n",
       "</div>"
      ],
      "text/plain": [
       "      Date  Profit  Target\n",
       "0   18-May    -891   31500\n",
       "1   18-Jun   -3759   31600\n",
       "2   18-Aug   -1059   33900\n",
       "3   18-Sep   -3509   34000\n",
       "4   18-Nov    4955   36300\n",
       "5   18-Dec    1535   36400\n",
       "6   18-Apr   -1043   31400\n",
       "7   18-Jul   -2065   33800\n",
       "8   18-Oct    5979   36100\n",
       "9   19-Jan    8655   43500\n",
       "10  19-Feb    2291   43600\n",
       "11  19-Mar    6633   43800"
      ]
     },
     "execution_count": 236,
     "metadata": {},
     "output_type": "execute_result"
    }
   ],
   "source": [
    "dfnew=pd.DataFrame(data)\n"
   ]
  },
  {
   "cell_type": "code",
   "execution_count": 237,
   "metadata": {},
   "outputs": [],
   "source": [
    "ans=[]\n",
    "for i,j in zip(df['Profit'].values,df['Target'].values):\n",
    "    if i>j:\n",
    "        print(\"Target Reached\")\n",
    "    else:\n",
    "        ans.append('Target Not Reached')"
   ]
  },
  {
   "cell_type": "code",
   "execution_count": 238,
   "metadata": {},
   "outputs": [],
   "source": [
    "dfnew['Status']=pd.DataFrame(ans)"
   ]
  },
  {
   "cell_type": "code",
   "execution_count": 239,
   "metadata": {},
   "outputs": [
    {
     "data": {
      "text/html": [
       "<div>\n",
       "<style scoped>\n",
       "    .dataframe tbody tr th:only-of-type {\n",
       "        vertical-align: middle;\n",
       "    }\n",
       "\n",
       "    .dataframe tbody tr th {\n",
       "        vertical-align: top;\n",
       "    }\n",
       "\n",
       "    .dataframe thead th {\n",
       "        text-align: right;\n",
       "    }\n",
       "</style>\n",
       "<table border=\"1\" class=\"dataframe\">\n",
       "  <thead>\n",
       "    <tr style=\"text-align: right;\">\n",
       "      <th></th>\n",
       "      <th>Date</th>\n",
       "      <th>Profit</th>\n",
       "      <th>Target</th>\n",
       "      <th>Status</th>\n",
       "    </tr>\n",
       "  </thead>\n",
       "  <tbody>\n",
       "    <tr>\n",
       "      <th>0</th>\n",
       "      <td>18-May</td>\n",
       "      <td>-891</td>\n",
       "      <td>31500</td>\n",
       "      <td>Target Not Reached</td>\n",
       "    </tr>\n",
       "    <tr>\n",
       "      <th>1</th>\n",
       "      <td>18-Jun</td>\n",
       "      <td>-3759</td>\n",
       "      <td>31600</td>\n",
       "      <td>Target Not Reached</td>\n",
       "    </tr>\n",
       "    <tr>\n",
       "      <th>2</th>\n",
       "      <td>18-Aug</td>\n",
       "      <td>-1059</td>\n",
       "      <td>33900</td>\n",
       "      <td>Target Not Reached</td>\n",
       "    </tr>\n",
       "    <tr>\n",
       "      <th>3</th>\n",
       "      <td>18-Sep</td>\n",
       "      <td>-3509</td>\n",
       "      <td>34000</td>\n",
       "      <td>Target Not Reached</td>\n",
       "    </tr>\n",
       "    <tr>\n",
       "      <th>4</th>\n",
       "      <td>18-Nov</td>\n",
       "      <td>4955</td>\n",
       "      <td>36300</td>\n",
       "      <td>Target Not Reached</td>\n",
       "    </tr>\n",
       "    <tr>\n",
       "      <th>5</th>\n",
       "      <td>18-Dec</td>\n",
       "      <td>1535</td>\n",
       "      <td>36400</td>\n",
       "      <td>Target Not Reached</td>\n",
       "    </tr>\n",
       "    <tr>\n",
       "      <th>6</th>\n",
       "      <td>18-Apr</td>\n",
       "      <td>-1043</td>\n",
       "      <td>31400</td>\n",
       "      <td>Target Not Reached</td>\n",
       "    </tr>\n",
       "    <tr>\n",
       "      <th>7</th>\n",
       "      <td>18-Jul</td>\n",
       "      <td>-2065</td>\n",
       "      <td>33800</td>\n",
       "      <td>Target Not Reached</td>\n",
       "    </tr>\n",
       "    <tr>\n",
       "      <th>8</th>\n",
       "      <td>18-Oct</td>\n",
       "      <td>5979</td>\n",
       "      <td>36100</td>\n",
       "      <td>Target Not Reached</td>\n",
       "    </tr>\n",
       "    <tr>\n",
       "      <th>9</th>\n",
       "      <td>19-Jan</td>\n",
       "      <td>8655</td>\n",
       "      <td>43500</td>\n",
       "      <td>Target Not Reached</td>\n",
       "    </tr>\n",
       "    <tr>\n",
       "      <th>10</th>\n",
       "      <td>19-Feb</td>\n",
       "      <td>2291</td>\n",
       "      <td>43600</td>\n",
       "      <td>Target Not Reached</td>\n",
       "    </tr>\n",
       "    <tr>\n",
       "      <th>11</th>\n",
       "      <td>19-Mar</td>\n",
       "      <td>6633</td>\n",
       "      <td>43800</td>\n",
       "      <td>Target Not Reached</td>\n",
       "    </tr>\n",
       "  </tbody>\n",
       "</table>\n",
       "</div>"
      ],
      "text/plain": [
       "      Date  Profit  Target              Status\n",
       "0   18-May    -891   31500  Target Not Reached\n",
       "1   18-Jun   -3759   31600  Target Not Reached\n",
       "2   18-Aug   -1059   33900  Target Not Reached\n",
       "3   18-Sep   -3509   34000  Target Not Reached\n",
       "4   18-Nov    4955   36300  Target Not Reached\n",
       "5   18-Dec    1535   36400  Target Not Reached\n",
       "6   18-Apr   -1043   31400  Target Not Reached\n",
       "7   18-Jul   -2065   33800  Target Not Reached\n",
       "8   18-Oct    5979   36100  Target Not Reached\n",
       "9   19-Jan    8655   43500  Target Not Reached\n",
       "10  19-Feb    2291   43600  Target Not Reached\n",
       "11  19-Mar    6633   43800  Target Not Reached"
      ]
     },
     "execution_count": 239,
     "metadata": {},
     "output_type": "execute_result"
    }
   ],
   "source": [
    "dfnew"
   ]
  },
  {
   "cell_type": "code",
   "execution_count": null,
   "metadata": {},
   "outputs": [],
   "source": []
  }
 ],
 "metadata": {
  "interpreter": {
   "hash": "cd05aea42dd85bf16e1680a2cc905021d6359394bc33ef0e70653bb9b489fde6"
  },
  "kernelspec": {
   "display_name": "Python 3.9.5 64-bit",
   "language": "python",
   "name": "python3"
  },
  "language_info": {
   "codemirror_mode": {
    "name": "ipython",
    "version": 3
   },
   "file_extension": ".py",
   "mimetype": "text/x-python",
   "name": "python",
   "nbconvert_exporter": "python",
   "pygments_lexer": "ipython3",
   "version": "3.9.5"
  },
  "orig_nbformat": 4
 },
 "nbformat": 4,
 "nbformat_minor": 2
}
